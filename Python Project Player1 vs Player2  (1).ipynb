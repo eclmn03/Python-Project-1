{
 "cells": [
  {
   "cell_type": "code",
   "execution_count": 3,
   "metadata": {},
   "outputs": [
    {
     "name": "stdout",
     "output_type": "stream",
     "text": [
      "Player1 enter your selection * rock,paper,scissors *rock\n",
      "Player2 enter your selection * rock,paper,scissors *paper\n",
      "Winner Player-2! Paper beats rock!\n",
      "Play again? (yes/no):no\n",
      "Thanks for playing!\n"
     ]
    }
   ],
   "source": [
    "while True:\n",
    "    player1= input(\"Player1 enter your selection * rock,paper,scissors *\").lower()\n",
    "\n",
    "    player2 = input(\"Player2 enter your selection * rock,paper,scissors *\").lower()\n",
    "    \n",
    "     \n",
    "    if player1==player2:\n",
    "        print(f\"both players selected {player1}. Tie Game!\")\n",
    "       \n",
    "    elif player1 == \"rock\" and player2 == \"scissors\":\n",
    "        print(\"Winner Player-1! Rock beats scissors!\")\n",
    "        \n",
    "    elif player1 ==\"scissors\" and player2== \"paper\":\n",
    "        print(\"Winner Player-1! Scissors cuts paper!\")\n",
    "         \n",
    "    elif player1 ==\"paper\" and player2 == \"rock\":\n",
    "        print(\"Winner Player-1! Paper beats rock!\")\n",
    "            \n",
    "    elif player2 ==\"paper\" and player1 == \"rock\":\n",
    "        print(\"Winner Player-2! Paper beats rock!\")\n",
    "         \n",
    "    elif player2 == \"scissors\" and player1 == \"paper\":\n",
    "        print(\"Winner Player-2! Scissors cuts paper!\")\n",
    "          \n",
    "    elif player2 == \"rock\" and player1 == \"sccissors\":\n",
    "        print(\"Winner Player-2! Rock beats scissors\")\n",
    "          \n",
    "    else:\n",
    "        print(\"Invalid Entry, try again\")\n",
    "        \n",
    "    play_again= input(\"Play again? (yes/no):\").lower()\n",
    "    \n",
    "    if play_again != \"yes\":\n",
    "    \n",
    "        print(\"Thanks for playing!\")\n",
    "        break"
   ]
  },
  {
   "cell_type": "code",
   "execution_count": null,
   "metadata": {},
   "outputs": [],
   "source": []
  },
  {
   "cell_type": "code",
   "execution_count": null,
   "metadata": {},
   "outputs": [],
   "source": []
  },
  {
   "cell_type": "code",
   "execution_count": null,
   "metadata": {},
   "outputs": [],
   "source": []
  }
 ],
 "metadata": {
  "kernelspec": {
   "display_name": "Python 3",
   "language": "python",
   "name": "python3"
  },
  "language_info": {
   "codemirror_mode": {
    "name": "ipython",
    "version": 3
   },
   "file_extension": ".py",
   "mimetype": "text/x-python",
   "name": "python",
   "nbconvert_exporter": "python",
   "pygments_lexer": "ipython3",
   "version": "3.8.5"
  }
 },
 "nbformat": 4,
 "nbformat_minor": 4
}
