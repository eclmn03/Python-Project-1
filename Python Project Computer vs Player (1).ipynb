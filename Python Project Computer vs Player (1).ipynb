{
 "cells": [
  {
   "cell_type": "code",
   "execution_count": 1,
   "metadata": {},
   "outputs": [
    {
     "name": "stdout",
     "output_type": "stream",
     "text": [
      "Player1 enter your selection * rock,paper,scissors *rock\n",
      "\n",
      "Player1 played rock, Computer played paper.\n",
      "\n",
      "Winner Player-2! Paper beats rock!\n",
      "Play again? (yes/no):yes\n",
      "Player1 enter your selection * rock,paper,scissors *paper\n",
      "\n",
      "Player1 played paper, Computer played scissors.\n",
      "\n",
      "Winner Player-2! Scissors cuts paper!\n",
      "Play again? (yes/no):no\n",
      "Thank you for playing!\n"
     ]
    }
   ],
   "source": [
    "import random\n",
    "#player1 is the player\n",
    "#player2 is the computer\n",
    "\n",
    "while True:\n",
    "    player1= input(\"Player1 enter your selection * rock,paper,scissors *\").lower()\n",
    "\n",
    "    selections =[\"rock\",\"paper\",\"scissors\"]\n",
    "    \n",
    "    player2= random.choice(selections)\n",
    "    print(f\"\\nPlayer1 played {player1}, Computer played {player2}.\\n\")\n",
    "    \n",
    "    if player1==player2:\n",
    "        print(f\"both players selected {player1}. Tie Game!\")\n",
    "       \n",
    "    elif player1 == \"rock\" and player2 == \"scissors\":\n",
    "        print(\"Winner Player-1! Rock beats scissors!\")\n",
    "        \n",
    "    elif player1 ==\"scissors\" and player2== \"paper\":\n",
    "        print(\"Winner Player-1! Scissors cuts paper!\")\n",
    "         \n",
    "    elif player1 ==\"paper\" and player2 == \"rock\":\n",
    "        print(\"Winner Player-1! Paper beats rock!\")\n",
    "            \n",
    "    elif player2 ==\"paper\" and player1 == \"rock\":\n",
    "        print(\"Winner Player-2! Paper beats rock!\")\n",
    "         \n",
    "    elif player2 == \"scissors\" and player1 == \"paper\":\n",
    "        print(\"Winner Player-2! Scissors cuts paper!\")\n",
    "          \n",
    "    elif player2 == \"rock\" and player1 == \"sccissors\":\n",
    "        print(\"Winner Player-2! Rock beats scissors\")\n",
    "          \n",
    "    else:\n",
    "        print(\"Invalid Entry, try again\")\n",
    "        \n",
    "    play_again= input(\"Play again? (yes/no):\").lower()\n",
    "    \n",
    "    if play_again != \"yes\":\n",
    "    \n",
    "        print(\"Thank you for playing!\")\n",
    "        break\n",
    "    \n",
    "\n",
    "   \n",
    "      \n",
    "    \n",
    "    \n",
    "    \n",
    "\n",
    "    \n",
    "    \n",
    "        \n",
    "    "
   ]
  },
  {
   "cell_type": "code",
   "execution_count": null,
   "metadata": {},
   "outputs": [],
   "source": []
  },
  {
   "cell_type": "code",
   "execution_count": null,
   "metadata": {},
   "outputs": [],
   "source": []
  },
  {
   "cell_type": "code",
   "execution_count": null,
   "metadata": {},
   "outputs": [],
   "source": []
  }
 ],
 "metadata": {
  "kernelspec": {
   "display_name": "Python 3",
   "language": "python",
   "name": "python3"
  },
  "language_info": {
   "codemirror_mode": {
    "name": "ipython",
    "version": 3
   },
   "file_extension": ".py",
   "mimetype": "text/x-python",
   "name": "python",
   "nbconvert_exporter": "python",
   "pygments_lexer": "ipython3",
   "version": "3.8.5"
  }
 },
 "nbformat": 4,
 "nbformat_minor": 4
}
