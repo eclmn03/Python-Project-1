{
 "cells": [
  {
   "cell_type": "markdown",
   "metadata": {},
   "source": [
    "# NYPD Arrest Data Analysis"
   ]
  },
  {
   "cell_type": "code",
   "execution_count": 1,
   "metadata": {},
   "outputs": [
    {
     "data": {
      "text/html": [
       "<div>\n",
       "<style scoped>\n",
       "    .dataframe tbody tr th:only-of-type {\n",
       "        vertical-align: middle;\n",
       "    }\n",
       "\n",
       "    .dataframe tbody tr th {\n",
       "        vertical-align: top;\n",
       "    }\n",
       "\n",
       "    .dataframe thead th {\n",
       "        text-align: right;\n",
       "    }\n",
       "</style>\n",
       "<table border=\"1\" class=\"dataframe\">\n",
       "  <thead>\n",
       "    <tr style=\"text-align: right;\">\n",
       "      <th></th>\n",
       "      <th>ARREST_DATE</th>\n",
       "      <th>PD_CD</th>\n",
       "      <th>PD_DESC</th>\n",
       "      <th>KY_CD</th>\n",
       "      <th>OFNS_DESC</th>\n",
       "      <th>LAW_CODE</th>\n",
       "      <th>LAW_CAT_CD</th>\n",
       "      <th>ARREST_BORO</th>\n",
       "      <th>ARREST_PRECINCT</th>\n",
       "      <th>JURISDICTION_CODE</th>\n",
       "      <th>AGE_GROUP</th>\n",
       "      <th>PERP_SEX</th>\n",
       "      <th>PERP_RACE</th>\n",
       "      <th>X_COORD_CD</th>\n",
       "      <th>Y_COORD_CD</th>\n",
       "      <th>Latitude</th>\n",
       "      <th>Longitude</th>\n",
       "      <th>New Georeferenced Column</th>\n",
       "    </tr>\n",
       "    <tr>\n",
       "      <th>ARREST_KEY</th>\n",
       "      <th></th>\n",
       "      <th></th>\n",
       "      <th></th>\n",
       "      <th></th>\n",
       "      <th></th>\n",
       "      <th></th>\n",
       "      <th></th>\n",
       "      <th></th>\n",
       "      <th></th>\n",
       "      <th></th>\n",
       "      <th></th>\n",
       "      <th></th>\n",
       "      <th></th>\n",
       "      <th></th>\n",
       "      <th></th>\n",
       "      <th></th>\n",
       "      <th></th>\n",
       "      <th></th>\n",
       "    </tr>\n",
       "  </thead>\n",
       "  <tbody>\n",
       "    <tr>\n",
       "      <th>238013474</th>\n",
       "      <td>12/18/2021</td>\n",
       "      <td>157.0</td>\n",
       "      <td>RAPE 1</td>\n",
       "      <td>104.0</td>\n",
       "      <td>RAPE</td>\n",
       "      <td>PL 1303501</td>\n",
       "      <td>F</td>\n",
       "      <td>Q</td>\n",
       "      <td>105</td>\n",
       "      <td>97</td>\n",
       "      <td>18-24</td>\n",
       "      <td>M</td>\n",
       "      <td>BLACK</td>\n",
       "      <td>1057636</td>\n",
       "      <td>203954</td>\n",
       "      <td>40.726187</td>\n",
       "      <td>-73.735234</td>\n",
       "      <td>POINT (-73.73523390399998 40.72618713000002)</td>\n",
       "    </tr>\n",
       "    <tr>\n",
       "      <th>236943583</th>\n",
       "      <td>11/25/2021</td>\n",
       "      <td>263.0</td>\n",
       "      <td>ARSON 2,3,4</td>\n",
       "      <td>114.0</td>\n",
       "      <td>ARSON</td>\n",
       "      <td>PL 1501500</td>\n",
       "      <td>F</td>\n",
       "      <td>K</td>\n",
       "      <td>69</td>\n",
       "      <td>71</td>\n",
       "      <td>25-44</td>\n",
       "      <td>M</td>\n",
       "      <td>BLACK</td>\n",
       "      <td>1014340</td>\n",
       "      <td>171320</td>\n",
       "      <td>40.636868</td>\n",
       "      <td>-73.891586</td>\n",
       "      <td>POINT (-73.89158591899997 40.63686750900007)</td>\n",
       "    </tr>\n",
       "    <tr>\n",
       "      <th>234938876</th>\n",
       "      <td>10/14/2021</td>\n",
       "      <td>594.0</td>\n",
       "      <td>OBSCENITY 1</td>\n",
       "      <td>116.0</td>\n",
       "      <td>SEX CRIMES</td>\n",
       "      <td>PL 2631100</td>\n",
       "      <td>F</td>\n",
       "      <td>K</td>\n",
       "      <td>61</td>\n",
       "      <td>0</td>\n",
       "      <td>25-44</td>\n",
       "      <td>M</td>\n",
       "      <td>WHITE</td>\n",
       "      <td>995244</td>\n",
       "      <td>155739</td>\n",
       "      <td>40.594145</td>\n",
       "      <td>-73.960415</td>\n",
       "      <td>POINT (-73.96041495199995 40.59414516900005)</td>\n",
       "    </tr>\n",
       "    <tr>\n",
       "      <th>234788259</th>\n",
       "      <td>10/11/2021</td>\n",
       "      <td>263.0</td>\n",
       "      <td>ARSON 2,3,4</td>\n",
       "      <td>114.0</td>\n",
       "      <td>ARSON</td>\n",
       "      <td>PL 1501001</td>\n",
       "      <td>F</td>\n",
       "      <td>B</td>\n",
       "      <td>42</td>\n",
       "      <td>71</td>\n",
       "      <td>18-24</td>\n",
       "      <td>M</td>\n",
       "      <td>BLACK</td>\n",
       "      <td>1009058</td>\n",
       "      <td>239616</td>\n",
       "      <td>40.824340</td>\n",
       "      <td>-73.910365</td>\n",
       "      <td>POINT (-73.91036538099996 40.82433953100008)</td>\n",
       "    </tr>\n",
       "    <tr>\n",
       "      <th>234188790</th>\n",
       "      <td>09/28/2021</td>\n",
       "      <td>578.0</td>\n",
       "      <td>NaN</td>\n",
       "      <td>NaN</td>\n",
       "      <td>NaN</td>\n",
       "      <td>PL 2223001</td>\n",
       "      <td>M</td>\n",
       "      <td>B</td>\n",
       "      <td>44</td>\n",
       "      <td>0</td>\n",
       "      <td>25-44</td>\n",
       "      <td>M</td>\n",
       "      <td>BLACK</td>\n",
       "      <td>1005169</td>\n",
       "      <td>246667</td>\n",
       "      <td>40.843703</td>\n",
       "      <td>-73.924395</td>\n",
       "      <td>POINT (-73.92439508899997 40.84370255600004)</td>\n",
       "    </tr>\n",
       "    <tr>\n",
       "      <th>...</th>\n",
       "      <td>...</td>\n",
       "      <td>...</td>\n",
       "      <td>...</td>\n",
       "      <td>...</td>\n",
       "      <td>...</td>\n",
       "      <td>...</td>\n",
       "      <td>...</td>\n",
       "      <td>...</td>\n",
       "      <td>...</td>\n",
       "      <td>...</td>\n",
       "      <td>...</td>\n",
       "      <td>...</td>\n",
       "      <td>...</td>\n",
       "      <td>...</td>\n",
       "      <td>...</td>\n",
       "      <td>...</td>\n",
       "      <td>...</td>\n",
       "      <td>...</td>\n",
       "    </tr>\n",
       "    <tr>\n",
       "      <th>222884924</th>\n",
       "      <td>01/10/2021</td>\n",
       "      <td>397.0</td>\n",
       "      <td>ROBBERY,OPEN AREA UNCLASSIFIED</td>\n",
       "      <td>105.0</td>\n",
       "      <td>ROBBERY</td>\n",
       "      <td>PL 1601001</td>\n",
       "      <td>F</td>\n",
       "      <td>B</td>\n",
       "      <td>46</td>\n",
       "      <td>0</td>\n",
       "      <td>45-64</td>\n",
       "      <td>M</td>\n",
       "      <td>BLACK</td>\n",
       "      <td>1011432</td>\n",
       "      <td>247605</td>\n",
       "      <td>40.846260</td>\n",
       "      <td>-73.901755</td>\n",
       "      <td>POINT (-73.90175529499999 40.846260031000035)</td>\n",
       "    </tr>\n",
       "    <tr>\n",
       "      <th>223918625</th>\n",
       "      <td>02/03/2021</td>\n",
       "      <td>792.0</td>\n",
       "      <td>WEAPONS POSSESSION 1 &amp; 2</td>\n",
       "      <td>118.0</td>\n",
       "      <td>DANGEROUS WEAPONS</td>\n",
       "      <td>PL 2650303</td>\n",
       "      <td>F</td>\n",
       "      <td>K</td>\n",
       "      <td>67</td>\n",
       "      <td>0</td>\n",
       "      <td>18-24</td>\n",
       "      <td>M</td>\n",
       "      <td>BLACK</td>\n",
       "      <td>1004940</td>\n",
       "      <td>180941</td>\n",
       "      <td>40.663302</td>\n",
       "      <td>-73.925425</td>\n",
       "      <td>POINT (-73.92542497899994 40.66330200400005)</td>\n",
       "    </tr>\n",
       "    <tr>\n",
       "      <th>224323770</th>\n",
       "      <td>02/13/2021</td>\n",
       "      <td>101.0</td>\n",
       "      <td>ASSAULT 3</td>\n",
       "      <td>344.0</td>\n",
       "      <td>ASSAULT 3 &amp; RELATED OFFENSES</td>\n",
       "      <td>PL 1200001</td>\n",
       "      <td>M</td>\n",
       "      <td>S</td>\n",
       "      <td>121</td>\n",
       "      <td>0</td>\n",
       "      <td>45-64</td>\n",
       "      <td>M</td>\n",
       "      <td>BLACK</td>\n",
       "      <td>942825</td>\n",
       "      <td>166367</td>\n",
       "      <td>40.623227</td>\n",
       "      <td>-74.149227</td>\n",
       "      <td>POINT (-74.14922697299994 40.623226819000074)</td>\n",
       "    </tr>\n",
       "    <tr>\n",
       "      <th>222599533</th>\n",
       "      <td>01/04/2021</td>\n",
       "      <td>792.0</td>\n",
       "      <td>WEAPONS POSSESSION 1 &amp; 2</td>\n",
       "      <td>118.0</td>\n",
       "      <td>DANGEROUS WEAPONS</td>\n",
       "      <td>PL 2650303</td>\n",
       "      <td>F</td>\n",
       "      <td>K</td>\n",
       "      <td>73</td>\n",
       "      <td>0</td>\n",
       "      <td>25-44</td>\n",
       "      <td>M</td>\n",
       "      <td>BLACK</td>\n",
       "      <td>1007524</td>\n",
       "      <td>188555</td>\n",
       "      <td>40.684194</td>\n",
       "      <td>-73.916085</td>\n",
       "      <td>POINT (-73.91608474599997 40.684194302000044)</td>\n",
       "    </tr>\n",
       "    <tr>\n",
       "      <th>224056881</th>\n",
       "      <td>02/06/2021</td>\n",
       "      <td>268.0</td>\n",
       "      <td>CRIMINAL MIS 2 &amp; 3</td>\n",
       "      <td>121.0</td>\n",
       "      <td>CRIMINAL MISCHIEF &amp; RELATED OF</td>\n",
       "      <td>PL 1451000</td>\n",
       "      <td>F</td>\n",
       "      <td>Q</td>\n",
       "      <td>102</td>\n",
       "      <td>0</td>\n",
       "      <td>18-24</td>\n",
       "      <td>M</td>\n",
       "      <td>ASIAN / PACIFIC ISLANDER</td>\n",
       "      <td>1031414</td>\n",
       "      <td>190787</td>\n",
       "      <td>40.690226</td>\n",
       "      <td>-73.829932</td>\n",
       "      <td>POINT (-73.82993153599993 40.69022556600004)</td>\n",
       "    </tr>\n",
       "  </tbody>\n",
       "</table>\n",
       "<p>155507 rows × 18 columns</p>\n",
       "</div>"
      ],
      "text/plain": [
       "           ARREST_DATE  PD_CD                         PD_DESC  KY_CD  \\\n",
       "ARREST_KEY                                                             \n",
       "238013474   12/18/2021  157.0                          RAPE 1  104.0   \n",
       "236943583   11/25/2021  263.0                     ARSON 2,3,4  114.0   \n",
       "234938876   10/14/2021  594.0                     OBSCENITY 1  116.0   \n",
       "234788259   10/11/2021  263.0                     ARSON 2,3,4  114.0   \n",
       "234188790   09/28/2021  578.0                             NaN    NaN   \n",
       "...                ...    ...                             ...    ...   \n",
       "222884924   01/10/2021  397.0  ROBBERY,OPEN AREA UNCLASSIFIED  105.0   \n",
       "223918625   02/03/2021  792.0        WEAPONS POSSESSION 1 & 2  118.0   \n",
       "224323770   02/13/2021  101.0                       ASSAULT 3  344.0   \n",
       "222599533   01/04/2021  792.0        WEAPONS POSSESSION 1 & 2  118.0   \n",
       "224056881   02/06/2021  268.0              CRIMINAL MIS 2 & 3  121.0   \n",
       "\n",
       "                                 OFNS_DESC    LAW_CODE LAW_CAT_CD ARREST_BORO  \\\n",
       "ARREST_KEY                                                                      \n",
       "238013474                             RAPE  PL 1303501          F           Q   \n",
       "236943583                            ARSON  PL 1501500          F           K   \n",
       "234938876                       SEX CRIMES  PL 2631100          F           K   \n",
       "234788259                            ARSON  PL 1501001          F           B   \n",
       "234188790                              NaN  PL 2223001          M           B   \n",
       "...                                    ...         ...        ...         ...   \n",
       "222884924                          ROBBERY  PL 1601001          F           B   \n",
       "223918625                DANGEROUS WEAPONS  PL 2650303          F           K   \n",
       "224323770     ASSAULT 3 & RELATED OFFENSES  PL 1200001          M           S   \n",
       "222599533                DANGEROUS WEAPONS  PL 2650303          F           K   \n",
       "224056881   CRIMINAL MISCHIEF & RELATED OF  PL 1451000          F           Q   \n",
       "\n",
       "            ARREST_PRECINCT  JURISDICTION_CODE AGE_GROUP PERP_SEX  \\\n",
       "ARREST_KEY                                                          \n",
       "238013474               105                 97     18-24        M   \n",
       "236943583                69                 71     25-44        M   \n",
       "234938876                61                  0     25-44        M   \n",
       "234788259                42                 71     18-24        M   \n",
       "234188790                44                  0     25-44        M   \n",
       "...                     ...                ...       ...      ...   \n",
       "222884924                46                  0     45-64        M   \n",
       "223918625                67                  0     18-24        M   \n",
       "224323770               121                  0     45-64        M   \n",
       "222599533                73                  0     25-44        M   \n",
       "224056881               102                  0     18-24        M   \n",
       "\n",
       "                           PERP_RACE  X_COORD_CD  Y_COORD_CD   Latitude  \\\n",
       "ARREST_KEY                                                                \n",
       "238013474                      BLACK     1057636      203954  40.726187   \n",
       "236943583                      BLACK     1014340      171320  40.636868   \n",
       "234938876                      WHITE      995244      155739  40.594145   \n",
       "234788259                      BLACK     1009058      239616  40.824340   \n",
       "234188790                      BLACK     1005169      246667  40.843703   \n",
       "...                              ...         ...         ...        ...   \n",
       "222884924                      BLACK     1011432      247605  40.846260   \n",
       "223918625                      BLACK     1004940      180941  40.663302   \n",
       "224323770                      BLACK      942825      166367  40.623227   \n",
       "222599533                      BLACK     1007524      188555  40.684194   \n",
       "224056881   ASIAN / PACIFIC ISLANDER     1031414      190787  40.690226   \n",
       "\n",
       "            Longitude                       New Georeferenced Column  \n",
       "ARREST_KEY                                                            \n",
       "238013474  -73.735234   POINT (-73.73523390399998 40.72618713000002)  \n",
       "236943583  -73.891586   POINT (-73.89158591899997 40.63686750900007)  \n",
       "234938876  -73.960415   POINT (-73.96041495199995 40.59414516900005)  \n",
       "234788259  -73.910365   POINT (-73.91036538099996 40.82433953100008)  \n",
       "234188790  -73.924395   POINT (-73.92439508899997 40.84370255600004)  \n",
       "...               ...                                            ...  \n",
       "222884924  -73.901755  POINT (-73.90175529499999 40.846260031000035)  \n",
       "223918625  -73.925425   POINT (-73.92542497899994 40.66330200400005)  \n",
       "224323770  -74.149227  POINT (-74.14922697299994 40.623226819000074)  \n",
       "222599533  -73.916085  POINT (-73.91608474599997 40.684194302000044)  \n",
       "224056881  -73.829932   POINT (-73.82993153599993 40.69022556600004)  \n",
       "\n",
       "[155507 rows x 18 columns]"
      ]
     },
     "execution_count": 1,
     "metadata": {},
     "output_type": "execute_result"
    }
   ],
   "source": [
    "# Import Analysis\n",
    "\n",
    "import pandas as pd\n",
    "import seaborn as sns\n",
    "import matplotlib.pyplot as plt\n",
    "%matplotlib inline\n",
    "from numpy.random import randn\n",
    "\n",
    "df = pd.read_csv('NYPD_Arrest_Data__Year_to_Date_ (1).csv',index_col=0)\n",
    "\n",
    "df"
   ]
  },
  {
   "cell_type": "markdown",
   "metadata": {},
   "source": [
    "# Analysis/ Clean Up"
   ]
  },
  {
   "cell_type": "code",
   "execution_count": 2,
   "metadata": {},
   "outputs": [
    {
     "name": "stdout",
     "output_type": "stream",
     "text": [
      "Index(['ARREST_DATE', 'PD_CD', 'PD_DESC', 'KY_CD', 'OFNS_DESC', 'LAW_CODE',\n",
      "       'LAW_CAT_CD', 'ARREST_BORO', 'ARREST_PRECINCT', 'JURISDICTION_CODE',\n",
      "       'AGE_GROUP', 'PERP_SEX', 'PERP_RACE', 'X_COORD_CD', 'Y_COORD_CD',\n",
      "       'Latitude', 'Longitude', 'New Georeferenced Column'],\n",
      "      dtype='object')\n"
     ]
    }
   ],
   "source": [
    "# Print Function To Show Column Names\n",
    "\n",
    "print(df.columns)\n"
   ]
  },
  {
   "cell_type": "code",
   "execution_count": 3,
   "metadata": {},
   "outputs": [],
   "source": [
    "# Analysis used to drop specific columns\n",
    "\n",
    "drop_cols = ['PD_CD','KY_CD','LAW_CODE','ARREST_BORO','PD_DESC','JURISDICTION_CODE','X_COORD_CD','Y_COORD_CD','Latitude','Longitude','New Georeferenced Column']\n",
    "df.drop(drop_cols,inplace=True,axis=1)"
   ]
  },
  {
   "cell_type": "code",
   "execution_count": 4,
   "metadata": {},
   "outputs": [
    {
     "name": "stdout",
     "output_type": "stream",
     "text": [
      "Index(['ARREST_DATE', 'OFNS_DESC', 'LAW_CAT_CD', 'ARREST_PRECINCT',\n",
      "       'AGE_GROUP', 'PERP_SEX', 'PERP_RACE'],\n",
      "      dtype='object')\n"
     ]
    }
   ],
   "source": [
    "# Print function to show column names after columns were dropped\n",
    "\n",
    "print(df.columns)"
   ]
  },
  {
   "cell_type": "code",
   "execution_count": 5,
   "metadata": {},
   "outputs": [],
   "source": [
    "# Analysis to rename columns\n",
    "\n",
    "df=df.rename(columns={'ARREST_DATE':'Arrest Date','OFNS_DESC':'Offense','ARREST_PRECINCT':'Precinct','AGE_GROUP':'Age Group','PERP_SEX':'Sex','PERP_RACE':'Race','LAW_CAT_CD':'Crime Type'})"
   ]
  },
  {
   "cell_type": "code",
   "execution_count": 6,
   "metadata": {},
   "outputs": [
    {
     "data": {
      "text/html": [
       "<div>\n",
       "<style scoped>\n",
       "    .dataframe tbody tr th:only-of-type {\n",
       "        vertical-align: middle;\n",
       "    }\n",
       "\n",
       "    .dataframe tbody tr th {\n",
       "        vertical-align: top;\n",
       "    }\n",
       "\n",
       "    .dataframe thead th {\n",
       "        text-align: right;\n",
       "    }\n",
       "</style>\n",
       "<table border=\"1\" class=\"dataframe\">\n",
       "  <thead>\n",
       "    <tr style=\"text-align: right;\">\n",
       "      <th></th>\n",
       "      <th>Arrest Date</th>\n",
       "      <th>Offense</th>\n",
       "      <th>Crime Type</th>\n",
       "      <th>Precinct</th>\n",
       "      <th>Age Group</th>\n",
       "      <th>Sex</th>\n",
       "      <th>Race</th>\n",
       "    </tr>\n",
       "    <tr>\n",
       "      <th>ARREST_KEY</th>\n",
       "      <th></th>\n",
       "      <th></th>\n",
       "      <th></th>\n",
       "      <th></th>\n",
       "      <th></th>\n",
       "      <th></th>\n",
       "      <th></th>\n",
       "    </tr>\n",
       "  </thead>\n",
       "  <tbody>\n",
       "    <tr>\n",
       "      <th>238013474</th>\n",
       "      <td>12/18/2021</td>\n",
       "      <td>RAPE</td>\n",
       "      <td>F</td>\n",
       "      <td>105</td>\n",
       "      <td>18-24</td>\n",
       "      <td>M</td>\n",
       "      <td>BLACK</td>\n",
       "    </tr>\n",
       "    <tr>\n",
       "      <th>236943583</th>\n",
       "      <td>11/25/2021</td>\n",
       "      <td>ARSON</td>\n",
       "      <td>F</td>\n",
       "      <td>69</td>\n",
       "      <td>25-44</td>\n",
       "      <td>M</td>\n",
       "      <td>BLACK</td>\n",
       "    </tr>\n",
       "    <tr>\n",
       "      <th>234938876</th>\n",
       "      <td>10/14/2021</td>\n",
       "      <td>SEX CRIMES</td>\n",
       "      <td>F</td>\n",
       "      <td>61</td>\n",
       "      <td>25-44</td>\n",
       "      <td>M</td>\n",
       "      <td>WHITE</td>\n",
       "    </tr>\n",
       "    <tr>\n",
       "      <th>234788259</th>\n",
       "      <td>10/11/2021</td>\n",
       "      <td>ARSON</td>\n",
       "      <td>F</td>\n",
       "      <td>42</td>\n",
       "      <td>18-24</td>\n",
       "      <td>M</td>\n",
       "      <td>BLACK</td>\n",
       "    </tr>\n",
       "    <tr>\n",
       "      <th>234188790</th>\n",
       "      <td>09/28/2021</td>\n",
       "      <td>NaN</td>\n",
       "      <td>M</td>\n",
       "      <td>44</td>\n",
       "      <td>25-44</td>\n",
       "      <td>M</td>\n",
       "      <td>BLACK</td>\n",
       "    </tr>\n",
       "    <tr>\n",
       "      <th>...</th>\n",
       "      <td>...</td>\n",
       "      <td>...</td>\n",
       "      <td>...</td>\n",
       "      <td>...</td>\n",
       "      <td>...</td>\n",
       "      <td>...</td>\n",
       "      <td>...</td>\n",
       "    </tr>\n",
       "    <tr>\n",
       "      <th>222884924</th>\n",
       "      <td>01/10/2021</td>\n",
       "      <td>ROBBERY</td>\n",
       "      <td>F</td>\n",
       "      <td>46</td>\n",
       "      <td>45-64</td>\n",
       "      <td>M</td>\n",
       "      <td>BLACK</td>\n",
       "    </tr>\n",
       "    <tr>\n",
       "      <th>223918625</th>\n",
       "      <td>02/03/2021</td>\n",
       "      <td>DANGEROUS WEAPONS</td>\n",
       "      <td>F</td>\n",
       "      <td>67</td>\n",
       "      <td>18-24</td>\n",
       "      <td>M</td>\n",
       "      <td>BLACK</td>\n",
       "    </tr>\n",
       "    <tr>\n",
       "      <th>224323770</th>\n",
       "      <td>02/13/2021</td>\n",
       "      <td>ASSAULT 3 &amp; RELATED OFFENSES</td>\n",
       "      <td>M</td>\n",
       "      <td>121</td>\n",
       "      <td>45-64</td>\n",
       "      <td>M</td>\n",
       "      <td>BLACK</td>\n",
       "    </tr>\n",
       "    <tr>\n",
       "      <th>222599533</th>\n",
       "      <td>01/04/2021</td>\n",
       "      <td>DANGEROUS WEAPONS</td>\n",
       "      <td>F</td>\n",
       "      <td>73</td>\n",
       "      <td>25-44</td>\n",
       "      <td>M</td>\n",
       "      <td>BLACK</td>\n",
       "    </tr>\n",
       "    <tr>\n",
       "      <th>224056881</th>\n",
       "      <td>02/06/2021</td>\n",
       "      <td>CRIMINAL MISCHIEF &amp; RELATED OF</td>\n",
       "      <td>F</td>\n",
       "      <td>102</td>\n",
       "      <td>18-24</td>\n",
       "      <td>M</td>\n",
       "      <td>ASIAN / PACIFIC ISLANDER</td>\n",
       "    </tr>\n",
       "  </tbody>\n",
       "</table>\n",
       "<p>155507 rows × 7 columns</p>\n",
       "</div>"
      ],
      "text/plain": [
       "           Arrest Date                         Offense Crime Type  Precinct  \\\n",
       "ARREST_KEY                                                                    \n",
       "238013474   12/18/2021                            RAPE          F       105   \n",
       "236943583   11/25/2021                           ARSON          F        69   \n",
       "234938876   10/14/2021                      SEX CRIMES          F        61   \n",
       "234788259   10/11/2021                           ARSON          F        42   \n",
       "234188790   09/28/2021                             NaN          M        44   \n",
       "...                ...                             ...        ...       ...   \n",
       "222884924   01/10/2021                         ROBBERY          F        46   \n",
       "223918625   02/03/2021               DANGEROUS WEAPONS          F        67   \n",
       "224323770   02/13/2021    ASSAULT 3 & RELATED OFFENSES          M       121   \n",
       "222599533   01/04/2021               DANGEROUS WEAPONS          F        73   \n",
       "224056881   02/06/2021  CRIMINAL MISCHIEF & RELATED OF          F       102   \n",
       "\n",
       "           Age Group Sex                      Race  \n",
       "ARREST_KEY                                          \n",
       "238013474      18-24   M                     BLACK  \n",
       "236943583      25-44   M                     BLACK  \n",
       "234938876      25-44   M                     WHITE  \n",
       "234788259      18-24   M                     BLACK  \n",
       "234188790      25-44   M                     BLACK  \n",
       "...              ...  ..                       ...  \n",
       "222884924      45-64   M                     BLACK  \n",
       "223918625      18-24   M                     BLACK  \n",
       "224323770      45-64   M                     BLACK  \n",
       "222599533      25-44   M                     BLACK  \n",
       "224056881      18-24   M  ASIAN / PACIFIC ISLANDER  \n",
       "\n",
       "[155507 rows x 7 columns]"
      ]
     },
     "execution_count": 6,
     "metadata": {},
     "output_type": "execute_result"
    }
   ],
   "source": [
    "#Column Renaming Results \n",
    "\n",
    "df"
   ]
  },
  {
   "cell_type": "code",
   "execution_count": 7,
   "metadata": {},
   "outputs": [
    {
     "data": {
      "text/plain": [
       "Arrest Date    155507\n",
       "Offense        155404\n",
       "Crime Type     154114\n",
       "Precinct       155507\n",
       "Age Group      155507\n",
       "Sex            155507\n",
       "Race           155507\n",
       "dtype: int64"
      ]
     },
     "execution_count": 7,
     "metadata": {},
     "output_type": "execute_result"
    }
   ],
   "source": [
    "# Data count by column\n",
    "\n",
    "df.count()"
   ]
  },
  {
   "cell_type": "code",
   "execution_count": 8,
   "metadata": {},
   "outputs": [],
   "source": [
    "# Dropping of duplicate data\n",
    "\n",
    "df=df.drop_duplicates()"
   ]
  },
  {
   "cell_type": "code",
   "execution_count": 9,
   "metadata": {},
   "outputs": [
    {
     "data": {
      "text/plain": [
       "Arrest Date    135174\n",
       "Offense        135075\n",
       "Crime Type     134056\n",
       "Precinct       135174\n",
       "Age Group      135174\n",
       "Sex            135174\n",
       "Race           135174\n",
       "dtype: int64"
      ]
     },
     "execution_count": 9,
     "metadata": {},
     "output_type": "execute_result"
    }
   ],
   "source": [
    "# Count after dropping duplicates\n",
    "\n",
    "df.count()"
   ]
  },
  {
   "cell_type": "markdown",
   "metadata": {},
   "source": [
    "# Which age group has the highest crime count?"
   ]
  },
  {
   "cell_type": "code",
   "execution_count": 10,
   "metadata": {},
   "outputs": [
    {
     "data": {
      "text/plain": [
       "Age Group\n",
       "18-24    25592\n",
       "25-44    76419\n",
       "45-64    26838\n",
       "65+       2187\n",
       "<18       4039\n",
       "Name: Offense, dtype: int64"
      ]
     },
     "execution_count": 10,
     "metadata": {},
     "output_type": "execute_result"
    }
   ],
   "source": [
    "# Offense grouping count by age group\n",
    "\n",
    "df.groupby(['Age Group'])['Offense'].count()"
   ]
  },
  {
   "cell_type": "code",
   "execution_count": 11,
   "metadata": {},
   "outputs": [
    {
     "data": {
      "text/plain": [
       "<AxesSubplot:xlabel='Age Group'>"
      ]
     },
     "execution_count": 11,
     "metadata": {},
     "output_type": "execute_result"
    },
    {
     "data": {
      "image/png": "[encoded data removed]",
      "text/plain": [
       "<Figure size 432x288 with 1 Axes>"
      ]
     },
     "metadata": {
      "needs_background": "light"
     },
     "output_type": "display_data"
    }
   ],
   "source": [
    "# Line graph showing Offense count by Age Group\n",
    "\n",
    "df.groupby('Age Group').size().plot(kind='line')"
   ]
  },
  {
   "cell_type": "markdown",
   "metadata": {},
   "source": [
    "# Which race has the lowest crime count?"
   ]
  },
  {
   "cell_type": "code",
   "execution_count": 12,
   "metadata": {},
   "outputs": [
    {
     "data": {
      "text/plain": [
       "Race\n",
       "AMERICAN INDIAN/ALASKAN NATIVE      422\n",
       "ASIAN / PACIFIC ISLANDER           7783\n",
       "BLACK                             65918\n",
       "BLACK HISPANIC                    12085\n",
       "UNKNOWN                             562\n",
       "WHITE                             14850\n",
       "WHITE HISPANIC                    33455\n",
       "Name: Offense, dtype: int64"
      ]
     },
     "execution_count": 12,
     "metadata": {},
     "output_type": "execute_result"
    }
   ],
   "source": [
    "# Offense grouping by Race count\n",
    "\n",
    "df.groupby(['Race'])['Offense'].count()"
   ]
  },
  {
   "cell_type": "code",
   "execution_count": 13,
   "metadata": {},
   "outputs": [
    {
     "data": {
      "text/plain": [
       "<AxesSubplot:ylabel='Race'>"
      ]
     },
     "execution_count": 13,
     "metadata": {},
     "output_type": "execute_result"
    },
    {
     "data": {
      "image/png": "[encoded data removed]",
      "text/plain": [
       "<Figure size 432x288 with 1 Axes>"
      ]
     },
     "metadata": {
      "needs_background": "light"
     },
     "output_type": "display_data"
    }
   ],
   "source": [
    "# Bar graph showing Offense count by Race\n",
    "\n",
    "df.groupby('Race').size().plot(kind='barh')\n"
   ]
  },
  {
   "cell_type": "markdown",
   "metadata": {},
   "source": [
    "# Which sex was arrested the most for rape?"
   ]
  },
  {
   "cell_type": "code",
   "execution_count": 14,
   "metadata": {},
   "outputs": [],
   "source": [
    "# New dataframe to show Offense rape data\n",
    "\n",
    "df2=df[df['Offense']=='RAPE']"
   ]
  },
  {
   "cell_type": "code",
   "execution_count": 15,
   "metadata": {},
   "outputs": [
    {
     "data": {
      "text/html": [
       "<div>\n",
       "<style scoped>\n",
       "    .dataframe tbody tr th:only-of-type {\n",
       "        vertical-align: middle;\n",
       "    }\n",
       "\n",
       "    .dataframe tbody tr th {\n",
       "        vertical-align: top;\n",
       "    }\n",
       "\n",
       "    .dataframe thead th {\n",
       "        text-align: right;\n",
       "    }\n",
       "</style>\n",
       "<table border=\"1\" class=\"dataframe\">\n",
       "  <thead>\n",
       "    <tr style=\"text-align: right;\">\n",
       "      <th></th>\n",
       "      <th>Arrest Date</th>\n",
       "      <th>Offense</th>\n",
       "      <th>Crime Type</th>\n",
       "      <th>Precinct</th>\n",
       "      <th>Age Group</th>\n",
       "      <th>Sex</th>\n",
       "      <th>Race</th>\n",
       "    </tr>\n",
       "    <tr>\n",
       "      <th>ARREST_KEY</th>\n",
       "      <th></th>\n",
       "      <th></th>\n",
       "      <th></th>\n",
       "      <th></th>\n",
       "      <th></th>\n",
       "      <th></th>\n",
       "      <th></th>\n",
       "    </tr>\n",
       "  </thead>\n",
       "  <tbody>\n",
       "    <tr>\n",
       "      <th>238013474</th>\n",
       "      <td>12/18/2021</td>\n",
       "      <td>RAPE</td>\n",
       "      <td>F</td>\n",
       "      <td>105</td>\n",
       "      <td>18-24</td>\n",
       "      <td>M</td>\n",
       "      <td>BLACK</td>\n",
       "    </tr>\n",
       "    <tr>\n",
       "      <th>234117071</th>\n",
       "      <td>09/27/2021</td>\n",
       "      <td>RAPE</td>\n",
       "      <td>F</td>\n",
       "      <td>84</td>\n",
       "      <td>25-44</td>\n",
       "      <td>M</td>\n",
       "      <td>BLACK</td>\n",
       "    </tr>\n",
       "    <tr>\n",
       "      <th>233740512</th>\n",
       "      <td>09/18/2021</td>\n",
       "      <td>RAPE</td>\n",
       "      <td>F</td>\n",
       "      <td>41</td>\n",
       "      <td>25-44</td>\n",
       "      <td>M</td>\n",
       "      <td>WHITE HISPANIC</td>\n",
       "    </tr>\n",
       "    <tr>\n",
       "      <th>233697123</th>\n",
       "      <td>09/17/2021</td>\n",
       "      <td>RAPE</td>\n",
       "      <td>F</td>\n",
       "      <td>105</td>\n",
       "      <td>25-44</td>\n",
       "      <td>M</td>\n",
       "      <td>BLACK</td>\n",
       "    </tr>\n",
       "    <tr>\n",
       "      <th>231852329</th>\n",
       "      <td>08/05/2021</td>\n",
       "      <td>RAPE</td>\n",
       "      <td>F</td>\n",
       "      <td>25</td>\n",
       "      <td>25-44</td>\n",
       "      <td>M</td>\n",
       "      <td>WHITE HISPANIC</td>\n",
       "    </tr>\n",
       "    <tr>\n",
       "      <th>...</th>\n",
       "      <td>...</td>\n",
       "      <td>...</td>\n",
       "      <td>...</td>\n",
       "      <td>...</td>\n",
       "      <td>...</td>\n",
       "      <td>...</td>\n",
       "      <td>...</td>\n",
       "    </tr>\n",
       "    <tr>\n",
       "      <th>223666767</th>\n",
       "      <td>01/28/2021</td>\n",
       "      <td>RAPE</td>\n",
       "      <td>F</td>\n",
       "      <td>5</td>\n",
       "      <td>45-64</td>\n",
       "      <td>M</td>\n",
       "      <td>WHITE</td>\n",
       "    </tr>\n",
       "    <tr>\n",
       "      <th>223385210</th>\n",
       "      <td>01/21/2021</td>\n",
       "      <td>RAPE</td>\n",
       "      <td>F</td>\n",
       "      <td>90</td>\n",
       "      <td>25-44</td>\n",
       "      <td>M</td>\n",
       "      <td>WHITE HISPANIC</td>\n",
       "    </tr>\n",
       "    <tr>\n",
       "      <th>224093642</th>\n",
       "      <td>02/08/2021</td>\n",
       "      <td>RAPE</td>\n",
       "      <td>F</td>\n",
       "      <td>77</td>\n",
       "      <td>&lt;18</td>\n",
       "      <td>M</td>\n",
       "      <td>BLACK</td>\n",
       "    </tr>\n",
       "    <tr>\n",
       "      <th>223094402</th>\n",
       "      <td>01/15/2021</td>\n",
       "      <td>RAPE</td>\n",
       "      <td>F</td>\n",
       "      <td>77</td>\n",
       "      <td>25-44</td>\n",
       "      <td>M</td>\n",
       "      <td>BLACK</td>\n",
       "    </tr>\n",
       "    <tr>\n",
       "      <th>223662490</th>\n",
       "      <td>01/28/2021</td>\n",
       "      <td>RAPE</td>\n",
       "      <td>F</td>\n",
       "      <td>77</td>\n",
       "      <td>45-64</td>\n",
       "      <td>M</td>\n",
       "      <td>WHITE HISPANIC</td>\n",
       "    </tr>\n",
       "  </tbody>\n",
       "</table>\n",
       "<p>586 rows × 7 columns</p>\n",
       "</div>"
      ],
      "text/plain": [
       "           Arrest Date Offense Crime Type  Precinct Age Group Sex  \\\n",
       "ARREST_KEY                                                          \n",
       "238013474   12/18/2021    RAPE          F       105     18-24   M   \n",
       "234117071   09/27/2021    RAPE          F        84     25-44   M   \n",
       "233740512   09/18/2021    RAPE          F        41     25-44   M   \n",
       "233697123   09/17/2021    RAPE          F       105     25-44   M   \n",
       "231852329   08/05/2021    RAPE          F        25     25-44   M   \n",
       "...                ...     ...        ...       ...       ...  ..   \n",
       "223666767   01/28/2021    RAPE          F         5     45-64   M   \n",
       "223385210   01/21/2021    RAPE          F        90     25-44   M   \n",
       "224093642   02/08/2021    RAPE          F        77       <18   M   \n",
       "223094402   01/15/2021    RAPE          F        77     25-44   M   \n",
       "223662490   01/28/2021    RAPE          F        77     45-64   M   \n",
       "\n",
       "                      Race  \n",
       "ARREST_KEY                  \n",
       "238013474            BLACK  \n",
       "234117071            BLACK  \n",
       "233740512   WHITE HISPANIC  \n",
       "233697123            BLACK  \n",
       "231852329   WHITE HISPANIC  \n",
       "...                    ...  \n",
       "223666767            WHITE  \n",
       "223385210   WHITE HISPANIC  \n",
       "224093642            BLACK  \n",
       "223094402            BLACK  \n",
       "223662490   WHITE HISPANIC  \n",
       "\n",
       "[586 rows x 7 columns]"
      ]
     },
     "execution_count": 15,
     "metadata": {},
     "output_type": "execute_result"
    }
   ],
   "source": [
    "# DF2 results for Rape Offense\n",
    "\n",
    "df2"
   ]
  },
  {
   "cell_type": "code",
   "execution_count": 16,
   "metadata": {},
   "outputs": [
    {
     "data": {
      "text/plain": [
       "Sex\n",
       "F      8\n",
       "M    578\n",
       "Name: Offense, dtype: int64"
      ]
     },
     "execution_count": 16,
     "metadata": {},
     "output_type": "execute_result"
    }
   ],
   "source": [
    "# Rape Offense count by Sex\n",
    "\n",
    "df2.groupby(['Sex'])['Offense'].count()"
   ]
  },
  {
   "cell_type": "code",
   "execution_count": 17,
   "metadata": {},
   "outputs": [
    {
     "data": {
      "text/plain": [
       "<AxesSubplot:xlabel='Sex'>"
      ]
     },
     "execution_count": 17,
     "metadata": {},
     "output_type": "execute_result"
    },
    {
     "data": {
      "image/png": "[encoded data removed]",
      "text/plain": [
       "<Figure size 432x288 with 1 Axes>"
      ]
     },
     "metadata": {
      "needs_background": "light"
     },
     "output_type": "display_data"
    }
   ],
   "source": [
    "# bar graph showing count for Rape Offesnse by Sex\n",
    "\n",
    "df2.groupby('Sex').size().plot(kind='bar')"
   ]
  },
  {
   "cell_type": "markdown",
   "metadata": {},
   "source": [
    "# How many offenses has a crime type of F?"
   ]
  },
  {
   "cell_type": "code",
   "execution_count": 18,
   "metadata": {},
   "outputs": [
    {
     "data": {
      "text/plain": [
       "Crime Type\n",
       "F    60239\n",
       "I      229\n",
       "M    73213\n",
       "V      375\n",
       "Name: Crime Type, dtype: int64"
      ]
     },
     "execution_count": 18,
     "metadata": {},
     "output_type": "execute_result"
    }
   ],
   "source": [
    "# Grouping by Crime Type count\n",
    "\n",
    "df.groupby(['Crime Type'])['Crime Type'].count()"
   ]
  },
  {
   "cell_type": "code",
   "execution_count": 19,
   "metadata": {},
   "outputs": [
    {
     "data": {
      "text/plain": [
       "<AxesSubplot:ylabel='None'>"
      ]
     },
     "execution_count": 19,
     "metadata": {},
     "output_type": "execute_result"
    },
    {
     "data": {
      "image/png": "[encoded data removed]",
      "text/plain": [
       "<Figure size 432x288 with 1 Axes>"
      ]
     },
     "metadata": {},
     "output_type": "display_data"
    }
   ],
   "source": [
    "#Pie graph showing breakdown by crime type\n",
    "df.groupby('Crime Type').size().plot(kind='pie')"
   ]
  },
  {
   "cell_type": "code",
   "execution_count": 20,
   "metadata": {},
   "outputs": [
    {
     "data": {
      "text/plain": [
       "<AxesSubplot:xlabel='Crime Type'>"
      ]
     },
     "execution_count": 20,
     "metadata": {},
     "output_type": "execute_result"
    },
    {
     "data": {
      "image/png": "[encoded data removed]",
      "text/plain": [
       "<Figure size 432x288 with 1 Axes>"
      ]
     },
     "metadata": {
      "needs_background": "light"
     },
     "output_type": "display_data"
    }
   ],
   "source": [
    "# bar graph showing Crime type count\n",
    "df.groupby('Crime Type').size().plot(kind='bar')"
   ]
  },
  {
   "cell_type": "markdown",
   "metadata": {},
   "source": [
    "# Conclusion\n",
    "After completing my analysis I was able to see there are more crimes commited by men in the age groups of 25-44 compared to crimes commited by women and that black men have the highest arrest count compared to other races."
   ]
  },
  {
   "cell_type": "code",
   "execution_count": null,
   "metadata": {},
   "outputs": [],
   "source": []
  }
 ],
 "metadata": {
  "kernelspec": {
   "display_name": "Python 3",
   "language": "python",
   "name": "python3"
  },
  "language_info": {
   "codemirror_mode": {
    "name": "ipython",
    "version": 3
   },
   "file_extension": ".py",
   "mimetype": "text/x-python",
   "name": "python",
   "nbconvert_exporter": "python",
   "pygments_lexer": "ipython3",
   "version": "3.8.5"
  }
 },
 "nbformat": 4,
 "nbformat_minor": 4
}
